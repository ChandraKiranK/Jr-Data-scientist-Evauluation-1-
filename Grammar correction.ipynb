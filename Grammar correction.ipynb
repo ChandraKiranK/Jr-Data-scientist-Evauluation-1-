{
 "cells": [
  {
   "cell_type": "code",
   "execution_count": 1,
   "id": "2ee31012",
   "metadata": {},
   "outputs": [
    {
     "name": "stdout",
     "output_type": "stream",
     "text": [
      "Collecting happytransformer\n",
      "  Downloading happytransformer-2.4.1-py3-none-any.whl (45 kB)\n",
      "Requirement already satisfied: protobuf in d:\\anaconda\\lib\\site-packages (from happytransformer) (3.20.1)\n",
      "Collecting sentencepiece\n",
      "  Downloading sentencepiece-0.1.96-cp39-cp39-win_amd64.whl (1.1 MB)\n",
      "Collecting datasets>=1.6.0\n",
      "  Downloading datasets-2.3.2-py3-none-any.whl (362 kB)\n",
      "Collecting torch>=1.0\n",
      "  Downloading torch-1.12.0-cp39-cp39-win_amd64.whl (161.8 MB)\n",
      "Requirement already satisfied: tqdm>=4.43 in d:\\anaconda\\lib\\site-packages (from happytransformer) (4.62.3)\n",
      "Collecting transformers>=4.4.0\n",
      "  Downloading transformers-4.20.1-py3-none-any.whl (4.4 MB)\n",
      "Collecting huggingface-hub<1.0.0,>=0.1.0\n",
      "  Downloading huggingface_hub-0.8.1-py3-none-any.whl (101 kB)\n",
      "Requirement already satisfied: fsspec[http]>=2021.05.0 in d:\\anaconda\\lib\\site-packages (from datasets>=1.6.0->happytransformer) (2021.10.1)\n",
      "Collecting aiohttp\n",
      "  Downloading aiohttp-3.8.1-cp39-cp39-win_amd64.whl (554 kB)\n",
      "Requirement already satisfied: requests>=2.19.0 in d:\\anaconda\\lib\\site-packages (from datasets>=1.6.0->happytransformer) (2.26.0)\n",
      "Collecting responses<0.19\n",
      "  Downloading responses-0.18.0-py3-none-any.whl (38 kB)\n",
      "Requirement already satisfied: pyarrow>=6.0.0 in d:\\anaconda\\lib\\site-packages (from datasets>=1.6.0->happytransformer) (8.0.0)\n",
      "Requirement already satisfied: packaging in d:\\anaconda\\lib\\site-packages (from datasets>=1.6.0->happytransformer) (21.0)\n",
      "Collecting xxhash\n",
      "  Downloading xxhash-3.0.0-cp39-cp39-win_amd64.whl (29 kB)\n",
      "Collecting dill<0.3.6\n",
      "  Downloading dill-0.3.5.1-py2.py3-none-any.whl (95 kB)\n",
      "Requirement already satisfied: numpy>=1.17 in d:\\anaconda\\lib\\site-packages (from datasets>=1.6.0->happytransformer) (1.20.3)\n",
      "Requirement already satisfied: pandas in d:\\anaconda\\lib\\site-packages (from datasets>=1.6.0->happytransformer) (1.3.4)\n",
      "Collecting multiprocess\n",
      "  Downloading multiprocess-0.70.13-py39-none-any.whl (132 kB)\n",
      "Requirement already satisfied: pyyaml>=5.1 in d:\\anaconda\\lib\\site-packages (from huggingface-hub<1.0.0,>=0.1.0->datasets>=1.6.0->happytransformer) (6.0)\n",
      "Requirement already satisfied: typing-extensions>=3.7.4.3 in d:\\anaconda\\lib\\site-packages (from huggingface-hub<1.0.0,>=0.1.0->datasets>=1.6.0->happytransformer) (3.10.0.2)\n",
      "Requirement already satisfied: filelock in d:\\anaconda\\lib\\site-packages (from huggingface-hub<1.0.0,>=0.1.0->datasets>=1.6.0->happytransformer) (3.3.1)\n",
      "Requirement already satisfied: pyparsing>=2.0.2 in d:\\anaconda\\lib\\site-packages (from packaging->datasets>=1.6.0->happytransformer) (3.0.4)\n",
      "Requirement already satisfied: urllib3<1.27,>=1.21.1 in d:\\anaconda\\lib\\site-packages (from requests>=2.19.0->datasets>=1.6.0->happytransformer) (1.26.7)\n",
      "Requirement already satisfied: charset-normalizer~=2.0.0 in d:\\anaconda\\lib\\site-packages (from requests>=2.19.0->datasets>=1.6.0->happytransformer) (2.0.4)\n",
      "Requirement already satisfied: idna<4,>=2.5 in d:\\anaconda\\lib\\site-packages (from requests>=2.19.0->datasets>=1.6.0->happytransformer) (3.2)\n",
      "Requirement already satisfied: certifi>=2017.4.17 in d:\\anaconda\\lib\\site-packages (from requests>=2.19.0->datasets>=1.6.0->happytransformer) (2021.10.8)\n",
      "Requirement already satisfied: colorama in d:\\anaconda\\lib\\site-packages (from tqdm>=4.43->happytransformer) (0.4.4)\n",
      "Requirement already satisfied: regex!=2019.12.17 in d:\\anaconda\\lib\\site-packages (from transformers>=4.4.0->happytransformer) (2021.8.3)\n",
      "Collecting tokenizers!=0.11.3,<0.13,>=0.11.1\n",
      "  Downloading tokenizers-0.12.1-cp39-cp39-win_amd64.whl (3.3 MB)\n",
      "Collecting yarl<2.0,>=1.0\n",
      "  Downloading yarl-1.7.2-cp39-cp39-win_amd64.whl (122 kB)\n",
      "Requirement already satisfied: attrs>=17.3.0 in d:\\anaconda\\lib\\site-packages (from aiohttp->datasets>=1.6.0->happytransformer) (21.2.0)\n",
      "Collecting multidict<7.0,>=4.5\n",
      "  Downloading multidict-6.0.2-cp39-cp39-win_amd64.whl (28 kB)\n",
      "Collecting async-timeout<5.0,>=4.0.0a3\n",
      "  Downloading async_timeout-4.0.2-py3-none-any.whl (5.8 kB)\n",
      "Collecting aiosignal>=1.1.2\n",
      "  Downloading aiosignal-1.2.0-py3-none-any.whl (8.2 kB)\n",
      "Collecting frozenlist>=1.1.1\n",
      "  Downloading frozenlist-1.3.0-cp39-cp39-win_amd64.whl (33 kB)\n",
      "Requirement already satisfied: python-dateutil>=2.7.3 in d:\\anaconda\\lib\\site-packages (from pandas->datasets>=1.6.0->happytransformer) (2.8.2)\n",
      "Requirement already satisfied: pytz>=2017.3 in d:\\anaconda\\lib\\site-packages (from pandas->datasets>=1.6.0->happytransformer) (2021.3)\n",
      "Requirement already satisfied: six>=1.5 in d:\\anaconda\\lib\\site-packages (from python-dateutil>=2.7.3->pandas->datasets>=1.6.0->happytransformer) (1.16.0)\n",
      "Installing collected packages: multidict, frozenlist, yarl, async-timeout, aiosignal, dill, aiohttp, xxhash, tokenizers, responses, multiprocess, huggingface-hub, transformers, torch, sentencepiece, datasets, happytransformer\n",
      "Successfully installed aiohttp-3.8.1 aiosignal-1.2.0 async-timeout-4.0.2 datasets-2.3.2 dill-0.3.5.1 frozenlist-1.3.0 happytransformer-2.4.1 huggingface-hub-0.8.1 multidict-6.0.2 multiprocess-0.70.13 responses-0.18.0 sentencepiece-0.1.96 tokenizers-0.12.1 torch-1.12.0 transformers-4.20.1 xxhash-3.0.0 yarl-1.7.2\n"
     ]
    }
   ],
   "source": [
    "!pip install happytransformer"
   ]
  },
  {
   "cell_type": "code",
   "execution_count": 2,
   "id": "51edfe38",
   "metadata": {},
   "outputs": [],
   "source": [
    "from happytransformer import  HappyTextToText\n",
    "from difflib import SequenceMatcher\n",
    "from happytransformer import TTSettings\n",
    "import pandas as pd\n",
    "import numpy as np"
   ]
  },
  {
   "cell_type": "code",
   "execution_count": 3,
   "id": "a5867122",
   "metadata": {},
   "outputs": [
    {
     "name": "stderr",
     "output_type": "stream",
     "text": [
      "07/07/2022 09:54:04 - INFO - happytransformer.happy_transformer -   Using model: cpu\n"
     ]
    }
   ],
   "source": [
    "happy_tt = HappyTextToText(\"T5\", \"vennify/t5-base-grammar-correction\")"
   ]
  },
  {
   "cell_type": "code",
   "execution_count": 4,
   "id": "0fe83500",
   "metadata": {},
   "outputs": [],
   "source": [
    "  beam_settings =  TTSettings(num_beams=5, min_length=1, max_length=100)"
   ]
  },
  {
   "cell_type": "code",
   "execution_count": 5,
   "id": "5b7a7e69",
   "metadata": {},
   "outputs": [],
   "source": [
    "def Grammer_score(a, b):\n",
    "    return SequenceMatcher(None, a, b).ratio()"
   ]
  },
  {
   "cell_type": "code",
   "execution_count": 7,
   "id": "8a0651ff",
   "metadata": {},
   "outputs": [
    {
     "data": {
      "text/html": [
       "<div>\n",
       "<style scoped>\n",
       "    .dataframe tbody tr th:only-of-type {\n",
       "        vertical-align: middle;\n",
       "    }\n",
       "\n",
       "    .dataframe tbody tr th {\n",
       "        vertical-align: top;\n",
       "    }\n",
       "\n",
       "    .dataframe thead th {\n",
       "        text-align: right;\n",
       "    }\n",
       "</style>\n",
       "<table border=\"1\" class=\"dataframe\">\n",
       "  <thead>\n",
       "    <tr style=\"text-align: right;\">\n",
       "      <th></th>\n",
       "      <th>text</th>\n",
       "      <th>star</th>\n",
       "      <th>app_id</th>\n",
       "      <th>reviewDate</th>\n",
       "    </tr>\n",
       "  </thead>\n",
       "  <tbody>\n",
       "    <tr>\n",
       "      <th>631</th>\n",
       "      <td>Nice</td>\n",
       "      <td>5</td>\n",
       "      <td>com.gameloft.android.ANMP.GloftA8HM</td>\n",
       "      <td>18/03/21</td>\n",
       "    </tr>\n",
       "    <tr>\n",
       "      <th>2714</th>\n",
       "      <td>ABBAS Zohrain</td>\n",
       "      <td>1</td>\n",
       "      <td>com.king.candycrushsodasaga</td>\n",
       "      <td>18/03/21</td>\n",
       "    </tr>\n",
       "    <tr>\n",
       "      <th>9608</th>\n",
       "      <td>Lately, this app often interrupt and discontin...</td>\n",
       "      <td>2</td>\n",
       "      <td>com.tencent.ibg.joox</td>\n",
       "      <td>19/03/21</td>\n",
       "    </tr>\n",
       "    <tr>\n",
       "      <th>29393</th>\n",
       "      <td>Love 💕</td>\n",
       "      <td>5</td>\n",
       "      <td>com.imangi.templerun2</td>\n",
       "      <td>21/03/21</td>\n",
       "    </tr>\n",
       "    <tr>\n",
       "      <th>4920</th>\n",
       "      <td>Favorite</td>\n",
       "      <td>5</td>\n",
       "      <td>com.playrix.gardenscapes</td>\n",
       "      <td>18/03/21</td>\n",
       "    </tr>\n",
       "  </tbody>\n",
       "</table>\n",
       "</div>"
      ],
      "text/plain": [
       "                                                    text  star  \\\n",
       "631                                                 Nice     5   \n",
       "2714                                       ABBAS Zohrain     1   \n",
       "9608   Lately, this app often interrupt and discontin...     2   \n",
       "29393                                             Love 💕     5   \n",
       "4920                                            Favorite     5   \n",
       "\n",
       "                                    app_id reviewDate  \n",
       "631    com.gameloft.android.ANMP.GloftA8HM   18/03/21  \n",
       "2714           com.king.candycrushsodasaga   18/03/21  \n",
       "9608                  com.tencent.ibg.joox   19/03/21  \n",
       "29393                com.imangi.templerun2   21/03/21  \n",
       "4920              com.playrix.gardenscapes   18/03/21  "
      ]
     },
     "execution_count": 7,
     "metadata": {},
     "output_type": "execute_result"
    }
   ],
   "source": [
    "df = pd.read_csv('review_data.csv')\n",
    "df = df.sample(frac=0.003) #sampling a fraction of data to reduce time\n",
    "df.head()"
   ]
  },
  {
   "cell_type": "code",
   "execution_count": 8,
   "id": "0b8df32e",
   "metadata": {},
   "outputs": [],
   "source": [
    "correct = []\n",
    "for text in df.text:\n",
    "  output = happy_tt.generate_text(\"grammar: \" + text,args=beam_settings)\n",
    "  correct.append(output.text)\n",
    "df['Correct_text'] = correct"
   ]
  },
  {
   "cell_type": "code",
   "execution_count": 9,
   "id": "f21a32d9",
   "metadata": {},
   "outputs": [],
   "source": [
    "score = []\n",
    "for text,Correct_text in zip(df.text,df.Correct_text):\n",
    "  score.append(Grammer_score(text,Correct_text))\n",
    "df['score'] = score"
   ]
  },
  {
   "cell_type": "code",
   "execution_count": 10,
   "id": "35d6fa9b",
   "metadata": {},
   "outputs": [],
   "source": [
    "df['Grammer'] = np.where(df['score'] > 0.9 , \"Correct\", \"wrong\")"
   ]
  },
  {
   "cell_type": "code",
   "execution_count": 11,
   "id": "81f1753b",
   "metadata": {},
   "outputs": [
    {
     "data": {
      "text/html": [
       "<div>\n",
       "<style scoped>\n",
       "    .dataframe tbody tr th:only-of-type {\n",
       "        vertical-align: middle;\n",
       "    }\n",
       "\n",
       "    .dataframe tbody tr th {\n",
       "        vertical-align: top;\n",
       "    }\n",
       "\n",
       "    .dataframe thead th {\n",
       "        text-align: right;\n",
       "    }\n",
       "</style>\n",
       "<table border=\"1\" class=\"dataframe\">\n",
       "  <thead>\n",
       "    <tr style=\"text-align: right;\">\n",
       "      <th></th>\n",
       "      <th>text</th>\n",
       "      <th>star</th>\n",
       "      <th>app_id</th>\n",
       "      <th>reviewDate</th>\n",
       "      <th>Correct_text</th>\n",
       "      <th>score</th>\n",
       "      <th>Grammer</th>\n",
       "    </tr>\n",
       "  </thead>\n",
       "  <tbody>\n",
       "    <tr>\n",
       "      <th>631</th>\n",
       "      <td>Nice</td>\n",
       "      <td>5</td>\n",
       "      <td>com.gameloft.android.ANMP.GloftA8HM</td>\n",
       "      <td>18/03/21</td>\n",
       "      <td>Nice. Nice. Nice. Nice. Nice. Nice. Nice. Nice...</td>\n",
       "      <td>0.029963</td>\n",
       "      <td>wrong</td>\n",
       "    </tr>\n",
       "    <tr>\n",
       "      <th>2714</th>\n",
       "      <td>ABBAS Zohrain</td>\n",
       "      <td>1</td>\n",
       "      <td>com.king.candycrushsodasaga</td>\n",
       "      <td>18/03/21</td>\n",
       "      <td>ABBAS Zohrain.</td>\n",
       "      <td>0.962963</td>\n",
       "      <td>Correct</td>\n",
       "    </tr>\n",
       "    <tr>\n",
       "      <th>9608</th>\n",
       "      <td>Lately, this app often interrupt and discontin...</td>\n",
       "      <td>2</td>\n",
       "      <td>com.tencent.ibg.joox</td>\n",
       "      <td>19/03/21</td>\n",
       "      <td>Lately, this app often interrupts and disconti...</td>\n",
       "      <td>0.984615</td>\n",
       "      <td>Correct</td>\n",
       "    </tr>\n",
       "    <tr>\n",
       "      <th>29393</th>\n",
       "      <td>Love 💕</td>\n",
       "      <td>5</td>\n",
       "      <td>com.imangi.templerun2</td>\n",
       "      <td>21/03/21</td>\n",
       "      <td>Love                                          ...</td>\n",
       "      <td>0.169492</td>\n",
       "      <td>wrong</td>\n",
       "    </tr>\n",
       "    <tr>\n",
       "      <th>4920</th>\n",
       "      <td>Favorite</td>\n",
       "      <td>5</td>\n",
       "      <td>com.playrix.gardenscapes</td>\n",
       "      <td>18/03/21</td>\n",
       "      <td>Favorite thing? Favorite thing? Favorite thing...</td>\n",
       "      <td>0.049080</td>\n",
       "      <td>wrong</td>\n",
       "    </tr>\n",
       "  </tbody>\n",
       "</table>\n",
       "</div>"
      ],
      "text/plain": [
       "                                                    text  star  \\\n",
       "631                                                 Nice     5   \n",
       "2714                                       ABBAS Zohrain     1   \n",
       "9608   Lately, this app often interrupt and discontin...     2   \n",
       "29393                                             Love 💕     5   \n",
       "4920                                            Favorite     5   \n",
       "\n",
       "                                    app_id reviewDate  \\\n",
       "631    com.gameloft.android.ANMP.GloftA8HM   18/03/21   \n",
       "2714           com.king.candycrushsodasaga   18/03/21   \n",
       "9608                  com.tencent.ibg.joox   19/03/21   \n",
       "29393                com.imangi.templerun2   21/03/21   \n",
       "4920              com.playrix.gardenscapes   18/03/21   \n",
       "\n",
       "                                            Correct_text     score  Grammer  \n",
       "631    Nice. Nice. Nice. Nice. Nice. Nice. Nice. Nice...  0.029963    wrong  \n",
       "2714                                      ABBAS Zohrain.  0.962963  Correct  \n",
       "9608   Lately, this app often interrupts and disconti...  0.984615  Correct  \n",
       "29393  Love                                          ...  0.169492    wrong  \n",
       "4920   Favorite thing? Favorite thing? Favorite thing...  0.049080    wrong  "
      ]
     },
     "execution_count": 11,
     "metadata": {},
     "output_type": "execute_result"
    }
   ],
   "source": [
    "df.head()"
   ]
  },
  {
   "cell_type": "code",
   "execution_count": null,
   "id": "6c46c6a9",
   "metadata": {},
   "outputs": [],
   "source": []
  }
 ],
 "metadata": {
  "kernelspec": {
   "display_name": "Python 3 (ipykernel)",
   "language": "python",
   "name": "python3"
  },
  "language_info": {
   "codemirror_mode": {
    "name": "ipython",
    "version": 3
   },
   "file_extension": ".py",
   "mimetype": "text/x-python",
   "name": "python",
   "nbconvert_exporter": "python",
   "pygments_lexer": "ipython3",
   "version": "3.9.7"
  }
 },
 "nbformat": 4,
 "nbformat_minor": 5
}
